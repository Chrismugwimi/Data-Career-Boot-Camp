{
 "cells": [
  {
   "cell_type": "code",
   "execution_count": 20,
   "id": "b8ca577d",
   "metadata": {},
   "outputs": [
    {
     "name": "stdout",
     "output_type": "stream",
     "text": [
      "Yes\n"
     ]
    }
   ],
   "source": [
    "# 1). Write a Python program to check whether a string is a palindrome or not using a stack.\n",
    "# PS: Pay attention to the specified data structure.\n",
    "class Stack:\n",
    "    def __init__(self):\n",
    "        self.items = []\n",
    "\n",
    "    def is_empty(self):\n",
    "        return len(self.items) == 0\n",
    "\n",
    "    def push(self, item):\n",
    "        self.items.append(item)\n",
    "\n",
    "    def pop(self):\n",
    "        return self.items.pop()\n",
    "\n",
    "def is_palindrome(s):\n",
    "    stack = Stack()\n",
    "\n",
    "    # Push all characters of the string into the stack\n",
    "    for char in s:\n",
    "        stack.push(char)\n",
    "\n",
    "    # Pop characters from the stack and rebuild the reversed string\n",
    "    reversed_s = \"\"\n",
    "    while not stack.is_empty():\n",
    "        reversed_s += stack.pop()\n",
    "        \n",
    "    # Check if the original string is equal to the reversed string\n",
    "    return s == reversed_s\n",
    "\n",
    "# Driver code\n",
    "s = \"malayalam\"\n",
    "if is_palindrome(s):\n",
    "    print(\"Yes\")\n",
    "else:\n",
    "    print(\"No\")\n"
   ]
  },
  {
   "cell_type": "code",
   "execution_count": 5,
   "id": "ebecb789",
   "metadata": {},
   "outputs": [
    {
     "name": "stdout",
     "output_type": "stream",
     "text": [
      "[1, 4, 9, 16, 25, 36]\n"
     ]
    }
   ],
   "source": [
    "# 2). Explain the concept of list comprehension in Python with at least three examples.\n",
    "# list comprehension - A Python list comprehension consists of brackets containing the expression, which is executed for each element along with the for loop to iterate over each element in the Python list. \n",
    "numbers = [1, 2, 3, 4, 5, 6] \n",
    "squared = [x ** 2 for x in numbers] \n",
    "print(squared)"
   ]
  },
  {
   "cell_type": "code",
   "execution_count": 8,
   "id": "3d93c682",
   "metadata": {},
   "outputs": [
    {
     "name": "stdout",
     "output_type": "stream",
     "text": [
      "[1, 2, 3, 4]\n"
     ]
    }
   ],
   "source": [
    "# Using list comprehension to iterate through loop \n",
    "List = [character for character in [1, 2, 3, 4]] \n",
    "print(List)"
   ]
  },
  {
   "cell_type": "code",
   "execution_count": 9,
   "id": "d5147511",
   "metadata": {},
   "outputs": [
    {
     "name": "stdout",
     "output_type": "stream",
     "text": [
      "[2, 4, 6]\n"
     ]
    }
   ],
   "source": [
    "# Even numbers\n",
    "even_numbers = [x for x in numbers if x % 2 == 0]\n",
    "print(even_numbers)"
   ]
  },
  {
   "cell_type": "code",
   "execution_count": 11,
   "id": "308d4158",
   "metadata": {},
   "outputs": [
    {
     "name": "stdout",
     "output_type": "stream",
     "text": [
      "[1, 'hello', 3.14, True]\n"
     ]
    }
   ],
   "source": [
    "# 3). Explain what a compound datatype is in Python with three examples.\n",
    "# A compound datatype in Python is a data structure that can hold multiple values, often of different types, within a single object. These data types are \"compound\" because they can store more than one value, unlike simple data types like integers, floats, or strings\n",
    "# Lists - A list is an ordered collection of items that can be of different types\n",
    "my_list = [1, \"hello\", 3.14, True]\n",
    "print(my_list)"
   ]
  },
  {
   "cell_type": "code",
   "execution_count": 12,
   "id": "9d97b536",
   "metadata": {},
   "outputs": [
    {
     "name": "stdout",
     "output_type": "stream",
     "text": [
      "hello\n"
     ]
    }
   ],
   "source": [
    "# Accessing elements\n",
    "print(my_list[1]) "
   ]
  },
  {
   "cell_type": "code",
   "execution_count": 13,
   "id": "a0fa3e93",
   "metadata": {},
   "outputs": [
    {
     "name": "stdout",
     "output_type": "stream",
     "text": [
      "[42, 'hello', 3.14, True]\n"
     ]
    }
   ],
   "source": [
    "# Modifying elements\n",
    "my_list[0] = 42\n",
    "print(my_list) "
   ]
  },
  {
   "cell_type": "code",
   "execution_count": 15,
   "id": "9d521747",
   "metadata": {},
   "outputs": [
    {
     "name": "stdout",
     "output_type": "stream",
     "text": [
      "{'name': 'Alice', 'age': 30, 'is_student': False}\n"
     ]
    }
   ],
   "source": [
    "# Dictionary - A dictionary is a collection of key-value pairs, where each key is unique and is used to store and retrieve values\n",
    "my_dictionary = {'name': 'Alice', 'age': 30, 'is_student': False}\n",
    "print(my_dictionary)  # Output: {'name': 'Alice', 'age': 30, 'is_student': False}"
   ]
  },
  {
   "cell_type": "code",
   "execution_count": 16,
   "id": "08f3393d",
   "metadata": {},
   "outputs": [
    {
     "name": "stdout",
     "output_type": "stream",
     "text": [
      "Alice\n"
     ]
    }
   ],
   "source": [
    "# Accessing values by key\n",
    "print(my_dictionary['name'])  # Output: Alice"
   ]
  },
  {
   "cell_type": "code",
   "execution_count": 17,
   "id": "289340c5",
   "metadata": {},
   "outputs": [
    {
     "name": "stdout",
     "output_type": "stream",
     "text": [
      "{'name': 'Alice', 'age': 30, 'is_student': False, 'city': 'Nairobi'}\n"
     ]
    }
   ],
   "source": [
    "# Adding a new key-value pair\n",
    "my_dictionary['city'] = 'Nairobi'\n",
    "print(my_dictionary)  # Output: {'name': 'Alice', 'age': 30, 'is_student': False, 'city': 'Nairobi'}\n"
   ]
  },
  {
   "cell_type": "code",
   "execution_count": 18,
   "id": "32746ba3",
   "metadata": {},
   "outputs": [
    {
     "name": "stdout",
     "output_type": "stream",
     "text": [
      "(10, 'python', 3.14, False)\n"
     ]
    }
   ],
   "source": [
    "# Tuple -  A tuple is similar to a list, but it is immutable, meaning that once a tuple is created, its contents cannot be changed\n",
    "my_tuple = (10, \"python\", 3.14, False)\n",
    "print(my_tuple)"
   ]
  },
  {
   "cell_type": "code",
   "execution_count": 19,
   "id": "73ae884b",
   "metadata": {},
   "outputs": [
    {
     "name": "stdout",
     "output_type": "stream",
     "text": [
      "3.14\n"
     ]
    }
   ],
   "source": [
    "# Accessing elements\n",
    "print(my_tuple[2]) "
   ]
  },
  {
   "cell_type": "code",
   "execution_count": 21,
   "id": "d8400a90",
   "metadata": {},
   "outputs": [],
   "source": [
    "# 4). Write a function that takes a string and returns a list of bigrams.\n",
    "def generate_bigrams(s):\n",
    "    return [s[i:i+2] for i in range(len(s) - 1)]"
   ]
  },
  {
   "cell_type": "code",
   "execution_count": 23,
   "id": "5228274e",
   "metadata": {},
   "outputs": [
    {
     "name": "stdout",
     "output_type": "stream",
     "text": [
      "['bl', 'lu', 'ue']\n"
     ]
    }
   ],
   "source": [
    "# Example\n",
    "text = \"blue\"\n",
    "print(generate_bigrams(text)) "
   ]
  },
  {
   "cell_type": "code",
   "execution_count": 24,
   "id": "d4f740fc",
   "metadata": {},
   "outputs": [],
   "source": [
    "# 5). Given a dictionary with keys as letters and values as lists of letters, write a function closest_key to find the key with the input value closest to the beginning of the list.\n",
    "def closest_key(d, target):\n",
    "    closest_key = None\n",
    "    closest_distance = float('inf')\n",
    "\n",
    "    for key, values in d.items():\n",
    "        if target in values:\n",
    "            distance = values.index(target)\n",
    "            if distance < closest_distance:\n",
    "                closest_distance = distance\n",
    "                closest_key = key\n",
    "\n",
    "    return closest_key"
   ]
  },
  {
   "cell_type": "code",
   "execution_count": 25,
   "id": "90e1f038",
   "metadata": {},
   "outputs": [
    {
     "name": "stdout",
     "output_type": "stream",
     "text": [
      "c\n"
     ]
    }
   ],
   "source": [
    "# Example\n",
    "my_dictionary = {\n",
    "    'a': ['x', 'y', 'z'],\n",
    "    'b': ['y', 'z', 'a'],\n",
    "    'c': ['a', 'b', 'c']\n",
    "}\n",
    "print(closest_key(my_dictionary, 'a'))"
   ]
  },
  {
   "cell_type": "code",
   "execution_count": null,
   "id": "a78f7c79",
   "metadata": {},
   "outputs": [],
   "source": [
    "\n",
    "    "
   ]
  }
 ],
 "metadata": {
  "kernelspec": {
   "display_name": "Python 3 (ipykernel)",
   "language": "python",
   "name": "python3"
  },
  "language_info": {
   "codemirror_mode": {
    "name": "ipython",
    "version": 3
   },
   "file_extension": ".py",
   "mimetype": "text/x-python",
   "name": "python",
   "nbconvert_exporter": "python",
   "pygments_lexer": "ipython3",
   "version": "3.10.9"
  }
 },
 "nbformat": 4,
 "nbformat_minor": 5
}
